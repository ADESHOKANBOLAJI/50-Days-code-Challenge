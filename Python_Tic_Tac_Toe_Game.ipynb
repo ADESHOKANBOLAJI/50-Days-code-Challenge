{
  "nbformat": 4,
  "nbformat_minor": 0,
  "metadata": {
    "colab": {
      "name": "Python Tic Tac Toe Game.ipynb",
      "provenance": [],
      "include_colab_link": true
    },
    "kernelspec": {
      "name": "python3",
      "display_name": "Python 3"
    },
    "language_info": {
      "name": "python"
    }
  },
  "cells": [
    {
      "cell_type": "markdown",
      "metadata": {
        "id": "view-in-github",
        "colab_type": "text"
      },
      "source": [
        "<a href=\"https://colab.research.google.com/github/ADESHOKANBOLAJI/50-Days-code-Challenge/blob/main/Python_Tic_Tac_Toe_Game.ipynb\" target=\"_parent\"><img src=\"https://colab.research.google.com/assets/colab-badge.svg\" alt=\"Open In Colab\"/></a>"
      ]
    },
    {
      "cell_type": "code",
      "metadata": {
        "colab": {
          "base_uri": "https://localhost:8080/"
        },
        "id": "5FXSQbAuofj4",
        "outputId": "b9e6b705-f5a8-4da1-bc48-0899addb3406"
      },
      "source": [
        "pip install pygame"
      ],
      "execution_count": null,
      "outputs": [
        {
          "output_type": "stream",
          "name": "stdout",
          "text": [
            "Collecting pygame\n",
            "  Downloading pygame-2.0.2-cp37-cp37m-manylinux_2_5_x86_64.manylinux1_x86_64.whl (13.8 MB)\n",
            "\u001b[K     |████████████████████████████████| 13.8 MB 216 kB/s \n",
            "\u001b[?25hInstalling collected packages: pygame\n",
            "Successfully installed pygame-2.0.2\n"
          ]
        }
      ]
    },
    {
      "cell_type": "code",
      "metadata": {
        "colab": {
          "base_uri": "https://localhost:8080/"
        },
        "id": "BsUk57ZmrACH",
        "outputId": "2f6299c8-a85f-41f8-9fc0-49d5ca7783c9"
      },
      "source": [
        "import pygame as pg,sys\n",
        "from pygame.locals import *\n",
        "import time\n",
        "\n",
        "\n",
        "#initialize global variables\n",
        "XO = 'x'\n",
        "winner = None\n",
        "draw = False\n",
        "width = 400\n",
        "height = 400\n",
        "white = (255, 255, 255)\n",
        "line_color = (10,10,10)\n",
        "\n",
        "#TicTacToe 3x3 board\n",
        "TTT = [[None]*3,[None]*3,[None]*3]"
      ],
      "execution_count": null,
      "outputs": [
        {
          "output_type": "stream",
          "name": "stdout",
          "text": [
            "pygame 2.0.2 (SDL 2.0.16, Python 3.7.12)\n",
            "Hello from the pygame community. https://www.pygame.org/contribute.html\n"
          ]
        }
      ]
    },
    {
      "cell_type": "code",
      "metadata": {
        "colab": {
          "base_uri": "https://localhost:8080/",
          "height": 220
        },
        "id": "27u7r34itA-h",
        "outputId": "7ad59733-8370-44bd-c642-e845c3a50d9a"
      },
      "source": [
        "#initializing pygame window\n",
        "pg.init()\n",
        "fps = 30\n",
        "CLOCK = pg.time.Clock()\n",
        "screen = pg.display.set_mode((width, height+100),0,32)\n",
        "pg.display.set_caption(\"Tic Tac Toe\")"
      ],
      "execution_count": null,
      "outputs": [
        {
          "output_type": "error",
          "ename": "error",
          "evalue": "ignored",
          "traceback": [
            "\u001b[0;31m---------------------------------------------------------------------------\u001b[0m",
            "\u001b[0;31merror\u001b[0m                                     Traceback (most recent call last)",
            "\u001b[0;32m<ipython-input-7-007882b52a1e>\u001b[0m in \u001b[0;36m<module>\u001b[0;34m()\u001b[0m\n\u001b[1;32m      3\u001b[0m \u001b[0mfps\u001b[0m \u001b[0;34m=\u001b[0m \u001b[0;36m30\u001b[0m\u001b[0;34m\u001b[0m\u001b[0;34m\u001b[0m\u001b[0m\n\u001b[1;32m      4\u001b[0m \u001b[0mCLOCK\u001b[0m \u001b[0;34m=\u001b[0m \u001b[0mpg\u001b[0m\u001b[0;34m.\u001b[0m\u001b[0mtime\u001b[0m\u001b[0;34m.\u001b[0m\u001b[0mClock\u001b[0m\u001b[0;34m(\u001b[0m\u001b[0;34m)\u001b[0m\u001b[0;34m\u001b[0m\u001b[0;34m\u001b[0m\u001b[0m\n\u001b[0;32m----> 5\u001b[0;31m \u001b[0mscreen\u001b[0m \u001b[0;34m=\u001b[0m \u001b[0mpg\u001b[0m\u001b[0;34m.\u001b[0m\u001b[0mdisplay\u001b[0m\u001b[0;34m.\u001b[0m\u001b[0mset_mode\u001b[0m\u001b[0;34m(\u001b[0m\u001b[0;34m(\u001b[0m\u001b[0mwidth\u001b[0m\u001b[0;34m,\u001b[0m \u001b[0mheight\u001b[0m\u001b[0;34m+\u001b[0m\u001b[0;36m100\u001b[0m\u001b[0;34m)\u001b[0m\u001b[0;34m,\u001b[0m\u001b[0;36m0\u001b[0m\u001b[0;34m,\u001b[0m\u001b[0;36m32\u001b[0m\u001b[0;34m)\u001b[0m\u001b[0;34m\u001b[0m\u001b[0;34m\u001b[0m\u001b[0m\n\u001b[0m\u001b[1;32m      6\u001b[0m \u001b[0mpg\u001b[0m\u001b[0;34m.\u001b[0m\u001b[0mdisplay\u001b[0m\u001b[0;34m.\u001b[0m\u001b[0mset_caption\u001b[0m\u001b[0;34m(\u001b[0m\u001b[0;34m\"Tic Tac Toe\"\u001b[0m\u001b[0;34m)\u001b[0m\u001b[0;34m\u001b[0m\u001b[0;34m\u001b[0m\u001b[0m\n",
            "\u001b[0;31merror\u001b[0m: No available video device"
          ]
        }
      ]
    },
    {
      "cell_type": "code",
      "metadata": {
        "id": "cneSYlsXtG8v"
      },
      "source": [
        "#loading the images\n",
        "opening = pg.image.load('/content/tic tac opening.png')\n",
        "x_img = pg.image.load('/content/X.png')\n",
        "o_img = pg.image.load('/content/O.png')\n",
        "\n",
        "#resizing images\n",
        "x_img = pg.transform.scale(x_img, (80,80))\n",
        "o_img = pg.transform.scale(o_img, (80,80))\n",
        "opening = pg.transform.scale(opening, (width, height+100))"
      ],
      "execution_count": null,
      "outputs": []
    },
    {
      "cell_type": "code",
      "metadata": {
        "id": "_jE4uj0Qt1rz"
      },
      "source": [
        "def game_opening():\n",
        "    screen.blit(opening,(0,0))\n",
        "    pg.display.update()\n",
        "    time.sleep(1)\n",
        "    screen.fill(white)\n",
        "\n",
        "    # Drawing vertical lines\n",
        "    pg.draw.line(screen,line_color,(width/3,0),(width/3, height),7)\n",
        "    pg.draw.line(screen,line_color,(width/3*2,0),(width/3*2, height),7)\n",
        "    # Drawing horizontal lines\n",
        "    pg.draw.line(screen,line_color,(0,height/3),(width, height/3),7)\n",
        "    pg.draw.line(screen,line_color,(0,height/3*2),(width, height/3*2),7)\n",
        "    draw_status()"
      ],
      "execution_count": null,
      "outputs": []
    },
    {
      "cell_type": "code",
      "metadata": {
        "id": "i_99Uh0VuAJ6"
      },
      "source": [
        "def draw_status():\n",
        "    global draw\n",
        "\n",
        "    if winner is None:\n",
        "        message = XO.upper() + \"'s Turn\"\n",
        "    else:\n",
        "        message = winner.upper() + \" won!\"\n",
        "    if draw:\n",
        "        message = 'Game Draw!'\n",
        "\n",
        "    font = pg.font.Font(None, 30)\n",
        "    text = font.render(message, 1, (255, 255, 255))\n",
        "\n",
        "    # copy the rendered message onto the board\n",
        "    screen.fill ((0, 0, 0), (0, 400, 500, 100))\n",
        "    text_rect = text.get_rect(center=(width/2, 500-50))\n",
        "    screen.blit(text, text_rect)\n",
        "    pg.display.update()"
      ],
      "execution_count": null,
      "outputs": []
    },
    {
      "cell_type": "code",
      "metadata": {
        "id": "54J4J-ILuFCR"
      },
      "source": [
        "def check_win():\n",
        "    global TTT, winner,draw\n",
        "\n",
        "    # check for winning rows\n",
        "    for row in range (0,3):\n",
        "        if ((TTT [row][0] == TTT[row][1] == TTT[row][2]) and(TTT [row][0] is not None)):\n",
        "            # this row won\n",
        "            winner = TTT[row][0]\n",
        "            pg.draw.line(screen, (250,0,0), (0, (row + 1)*height/3 -height/6),\\\n",
        "                              (width, (row + 1)*height/3 - height/6 ), 4)\n",
        "            break\n",
        "\n",
        "    # check for winning columns\n",
        "    for col in range (0, 3):\n",
        "        if (TTT[0][col] == TTT[1][col] == TTT[2][col]) and (TTT[0][col] is not None):\n",
        "            # this column won\n",
        "            winner = TTT[0][col]\n",
        "            #draw winning line\n",
        "            pg.draw.line (screen, (250,0,0),((col + 1)* width/3 - width/6, 0),\\\n",
        "                          ((col + 1)* width/3 - width/6, height), 4)\n",
        "            break\n",
        "\n",
        "    # check for diagonal winners\n",
        "    if (TTT[0][0] == TTT[1][1] == TTT[2][2]) and (TTT[0][0] is not None):\n",
        "        # game won diagonally left to right\n",
        "        winner = TTT[0][0]\n",
        "        pg.draw.line (screen, (250,70,70), (50, 50), (350, 350), 4)\n",
        "\n",
        "    if (TTT[0][2] == TTT[1][1] == TTT[2][0]) and (TTT[0][2] is not None):\n",
        "        # game won diagonally right to left\n",
        "        winner = TTT[0][2]\n",
        "        pg.draw.line (screen, (250,70,70), (350, 50), (50, 350), 4)\n",
        "\n",
        "    if(all([all(row) for row in TTT]) and winner is None ):\n",
        "        draw = True\n",
        "    draw_status()"
      ],
      "execution_count": null,
      "outputs": []
    },
    {
      "cell_type": "code",
      "metadata": {
        "id": "Umm9YcM3uJmR"
      },
      "source": [
        "def drawXO(row,col):\n",
        "    global TTT,XO\n",
        "    if row==1:\n",
        "        posx = 30\n",
        "    if row==2:\n",
        "        posx = width/3 + 30\n",
        "    if row==3:\n",
        "        posx = width/3*2 + 30\n",
        "\n",
        "    if col==1:\n",
        "        posy = 30\n",
        "    if col==2:\n",
        "        posy = height/3 + 30\n",
        "    if col==3:\n",
        "        posy = height/3*2 + 30\n",
        "    TTT[row-1][col-1] = XO\n",
        "    if(XO == 'x'):\n",
        "        screen.blit(x_img,(posy,posx))\n",
        "        XO= 'o'\n",
        "    else:\n",
        "        screen.blit(o_img,(posy,posx))\n",
        "        XO= 'x'\n",
        "    pg.display.update()\n",
        "    #print(posx,posy)\n",
        "    #print(TTT)"
      ],
      "execution_count": null,
      "outputs": []
    },
    {
      "cell_type": "code",
      "metadata": {
        "id": "PZFXg8X-uOCJ"
      },
      "source": [
        "def userClick():\n",
        "    #get coordinates of mouse click\n",
        "    x,y = pg.mouse.get_pos()\n",
        "\n",
        "    #get column of mouse click (1-3)\n",
        "    if(x<width/3):\n",
        "        col = 1\n",
        "    elif (x<width/3*2):\n",
        "        col = 2\n",
        "    elif(x<width):\n",
        "        col = 3\n",
        "    else:\n",
        "        col = None\n",
        "\n",
        "    #get row of mouse click (1-3)\n",
        "    if(y<height/3):\n",
        "        row = 1\n",
        "    elif (y<height/3*2):\n",
        "        row = 2\n",
        "    elif(y<height):\n",
        "        row = 3\n",
        "    else:\n",
        "        row = None\n",
        "    #print(row,col)\n",
        "\n",
        "    if(row and col and TTT[row-1][col-1] is None):\n",
        "        global XO\n",
        "\n",
        "        #draw the x or o on screen\n",
        "        drawXO(row,col)\n",
        "        check_win()"
      ],
      "execution_count": null,
      "outputs": []
    },
    {
      "cell_type": "code",
      "metadata": {
        "id": "GR_4KtHOuShr"
      },
      "source": [
        "def reset_game():\n",
        "    global TTT, winner,XO, draw\n",
        "    time.sleep(3)\n",
        "    XO = 'x'\n",
        "    draw = False\n",
        "    game_opening()\n",
        "    winner=None\n",
        "    TTT = [[None]*3,[None]*3,[None]*3]"
      ],
      "execution_count": null,
      "outputs": []
    },
    {
      "cell_type": "code",
      "metadata": {
        "colab": {
          "base_uri": "https://localhost:8080/",
          "height": 361
        },
        "id": "97-oBsASuYhp",
        "outputId": "4ab9df3f-c8b6-43f9-cb45-14b217c99e31"
      },
      "source": [
        "game_opening()\n",
        "\n",
        "# run the game loop forever\n",
        "while(True):\n",
        "    for event in pg.event.get():\n",
        "        if event.type == QUIT:\n",
        "            pg.quit()\n",
        "            sys.exit()\n",
        "        elif event.type == MOUSEBUTTONDOWN:\n",
        "            # the user clicked; place an X or O\n",
        "            userClick()\n",
        "            if(winner or draw):\n",
        "                reset_game()\n",
        "\n",
        "    pg.display.update()\n",
        "    CLOCK.tick(fps)"
      ],
      "execution_count": null,
      "outputs": [
        {
          "output_type": "error",
          "ename": "NameError",
          "evalue": "ignored",
          "traceback": [
            "\u001b[0;31m---------------------------------------------------------------------------\u001b[0m",
            "\u001b[0;31mNameError\u001b[0m                                 Traceback (most recent call last)",
            "\u001b[0;32m<ipython-input-16-863e67e56c6c>\u001b[0m in \u001b[0;36m<module>\u001b[0;34m()\u001b[0m\n\u001b[0;32m----> 1\u001b[0;31m \u001b[0mgame_opening\u001b[0m\u001b[0;34m(\u001b[0m\u001b[0;34m)\u001b[0m\u001b[0;34m\u001b[0m\u001b[0;34m\u001b[0m\u001b[0m\n\u001b[0m\u001b[1;32m      2\u001b[0m \u001b[0;34m\u001b[0m\u001b[0m\n\u001b[1;32m      3\u001b[0m \u001b[0;31m# run the game loop forever\u001b[0m\u001b[0;34m\u001b[0m\u001b[0;34m\u001b[0m\u001b[0;34m\u001b[0m\u001b[0m\n\u001b[1;32m      4\u001b[0m \u001b[0;32mwhile\u001b[0m\u001b[0;34m(\u001b[0m\u001b[0;32mTrue\u001b[0m\u001b[0;34m)\u001b[0m\u001b[0;34m:\u001b[0m\u001b[0;34m\u001b[0m\u001b[0;34m\u001b[0m\u001b[0m\n\u001b[1;32m      5\u001b[0m     \u001b[0;32mfor\u001b[0m \u001b[0mevent\u001b[0m \u001b[0;32min\u001b[0m \u001b[0mpg\u001b[0m\u001b[0;34m.\u001b[0m\u001b[0mevent\u001b[0m\u001b[0;34m.\u001b[0m\u001b[0mget\u001b[0m\u001b[0;34m(\u001b[0m\u001b[0;34m)\u001b[0m\u001b[0;34m:\u001b[0m\u001b[0;34m\u001b[0m\u001b[0;34m\u001b[0m\u001b[0m\n",
            "\u001b[0;32m<ipython-input-10-e1935bc0b2a2>\u001b[0m in \u001b[0;36mgame_opening\u001b[0;34m()\u001b[0m\n\u001b[1;32m      1\u001b[0m \u001b[0;32mdef\u001b[0m \u001b[0mgame_opening\u001b[0m\u001b[0;34m(\u001b[0m\u001b[0;34m)\u001b[0m\u001b[0;34m:\u001b[0m\u001b[0;34m\u001b[0m\u001b[0;34m\u001b[0m\u001b[0m\n\u001b[0;32m----> 2\u001b[0;31m     \u001b[0mscreen\u001b[0m\u001b[0;34m.\u001b[0m\u001b[0mblit\u001b[0m\u001b[0;34m(\u001b[0m\u001b[0mopening\u001b[0m\u001b[0;34m,\u001b[0m\u001b[0;34m(\u001b[0m\u001b[0;36m0\u001b[0m\u001b[0;34m,\u001b[0m\u001b[0;36m0\u001b[0m\u001b[0;34m)\u001b[0m\u001b[0;34m)\u001b[0m\u001b[0;34m\u001b[0m\u001b[0;34m\u001b[0m\u001b[0m\n\u001b[0m\u001b[1;32m      3\u001b[0m     \u001b[0mpg\u001b[0m\u001b[0;34m.\u001b[0m\u001b[0mdisplay\u001b[0m\u001b[0;34m.\u001b[0m\u001b[0mupdate\u001b[0m\u001b[0;34m(\u001b[0m\u001b[0;34m)\u001b[0m\u001b[0;34m\u001b[0m\u001b[0;34m\u001b[0m\u001b[0m\n\u001b[1;32m      4\u001b[0m     \u001b[0mtime\u001b[0m\u001b[0;34m.\u001b[0m\u001b[0msleep\u001b[0m\u001b[0;34m(\u001b[0m\u001b[0;36m1\u001b[0m\u001b[0;34m)\u001b[0m\u001b[0;34m\u001b[0m\u001b[0;34m\u001b[0m\u001b[0m\n\u001b[1;32m      5\u001b[0m     \u001b[0mscreen\u001b[0m\u001b[0;34m.\u001b[0m\u001b[0mfill\u001b[0m\u001b[0;34m(\u001b[0m\u001b[0mwhite\u001b[0m\u001b[0;34m)\u001b[0m\u001b[0;34m\u001b[0m\u001b[0;34m\u001b[0m\u001b[0m\n",
            "\u001b[0;31mNameError\u001b[0m: name 'screen' is not defined"
          ]
        }
      ]
    },
    {
      "cell_type": "code",
      "metadata": {
        "id": "iq2aMZqQufK8"
      },
      "source": [
        ""
      ],
      "execution_count": null,
      "outputs": []
    }
  ]
}