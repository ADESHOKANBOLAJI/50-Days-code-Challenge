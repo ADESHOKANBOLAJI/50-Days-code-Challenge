{
  "nbformat": 4,
  "nbformat_minor": 0,
  "metadata": {
    "colab": {
      "name": "Python Website Blocker with GUI.ipynb",
      "provenance": [],
      "authorship_tag": "ABX9TyMf+gWFmBplS2BLR8U1g+bX",
      "include_colab_link": true
    },
    "kernelspec": {
      "name": "python3",
      "display_name": "Python 3"
    },
    "language_info": {
      "name": "python"
    }
  },
  "cells": [
    {
      "cell_type": "markdown",
      "metadata": {
        "id": "view-in-github",
        "colab_type": "text"
      },
      "source": [
        "<a href=\"https://colab.research.google.com/github/ADESHOKANBOLAJI/50-Days-code-Challenge/blob/main/Python_Website_Blocker_with_GUI.ipynb\" target=\"_parent\"><img src=\"https://colab.research.google.com/assets/colab-badge.svg\" alt=\"Open In Colab\"/></a>"
      ]
    },
    {
      "cell_type": "code",
      "metadata": {
        "colab": {
          "base_uri": "https://localhost:8080/"
        },
        "id": "m8eGZYzFXoOi",
        "outputId": "2873de1f-2f52-4a52-fe3c-a4c5f721c5de"
      },
      "source": [
        "!pip install tkinter"
      ],
      "execution_count": 2,
      "outputs": [
        {
          "output_type": "stream",
          "name": "stdout",
          "text": [
            "\u001b[31mERROR: Could not find a version that satisfies the requirement tkinter (from versions: none)\u001b[0m\n",
            "\u001b[31mERROR: No matching distribution found for tkinter\u001b[0m\n"
          ]
        }
      ]
    },
    {
      "cell_type": "code",
      "metadata": {
        "id": "XkJ5a878X8az"
      },
      "source": [
        "# Importing the module\n",
        "from tkinter import *"
      ],
      "execution_count": 3,
      "outputs": []
    },
    {
      "cell_type": "code",
      "metadata": {
        "colab": {
          "base_uri": "https://localhost:8080/"
        },
        "id": "sG25ZZvqY0Gs",
        "outputId": "5688ee82-2370-4de5-8b8d-8e7a19db18bf"
      },
      "source": [
        "# install this to enable tk\n",
        "!apt-get install -y xvfb # Install X Virtual Frame Buffer\n",
        "import os\n",
        "os.system('Xvfb :1 -screen 0 1600x1200x16  &')    # create virtual display with size 1600x1200 and 16 bit color. Color can be changed to 24 or 8\n",
        "os.environ['DISPLAY']=':1.0'    # tell X clients to use our virtual DISPLAY :1.0"
      ],
      "execution_count": 5,
      "outputs": [
        {
          "output_type": "stream",
          "name": "stdout",
          "text": [
            "Reading package lists... Done\n",
            "Building dependency tree       \n",
            "Reading state information... Done\n",
            "The following package was automatically installed and is no longer required:\n",
            "  libnvidia-common-460\n",
            "Use 'apt autoremove' to remove it.\n",
            "The following NEW packages will be installed:\n",
            "  xvfb\n",
            "0 upgraded, 1 newly installed, 0 to remove and 37 not upgraded.\n",
            "Need to get 784 kB of archives.\n",
            "After this operation, 2,270 kB of additional disk space will be used.\n",
            "Get:1 http://archive.ubuntu.com/ubuntu bionic-updates/universe amd64 xvfb amd64 2:1.19.6-1ubuntu4.9 [784 kB]\n",
            "Fetched 784 kB in 1s (1,072 kB/s)\n",
            "Selecting previously unselected package xvfb.\n",
            "(Reading database ... 155062 files and directories currently installed.)\n",
            "Preparing to unpack .../xvfb_2%3a1.19.6-1ubuntu4.9_amd64.deb ...\n",
            "Unpacking xvfb (2:1.19.6-1ubuntu4.9) ...\n",
            "Setting up xvfb (2:1.19.6-1ubuntu4.9) ...\n",
            "Processing triggers for man-db (2.8.3-2ubuntu0.1) ...\n"
          ]
        }
      ]
    },
    {
      "cell_type": "code",
      "metadata": {
        "colab": {
          "base_uri": "https://localhost:8080/",
          "height": 35
        },
        "id": "NFQYm10kYGaA",
        "outputId": "914fa3af-23c4-45c7-8f97-87ef06ad0185"
      },
      "source": [
        "# Create the display window\n",
        "root = Tk()\n",
        "root.geometry('500x300')\n",
        "root.resizable(0,0)\n",
        "root.title(\"TechVidvan - Website Blocker\")"
      ],
      "execution_count": 6,
      "outputs": [
        {
          "output_type": "execute_result",
          "data": {
            "application/vnd.google.colaboratory.intrinsic+json": {
              "type": "string"
            },
            "text/plain": [
              "''"
            ]
          },
          "metadata": {},
          "execution_count": 6
        }
      ]
    },
    {
      "cell_type": "code",
      "metadata": {
        "id": "ChcURs-PY7Pw"
      },
      "source": [
        "# \n",
        "Label(root, text ='WEBSITE BLOCKER' , font ='arial 20 bold').pack()\n",
        "Label(root, text ='Dotun Digital' , font ='arial 20 bold').pack(side=BOTTOM)"
      ],
      "execution_count": 8,
      "outputs": []
    },
    {
      "cell_type": "code",
      "metadata": {
        "id": "VU0FF14YZNfc"
      },
      "source": [
        "# Create an entry widget\n",
        "host_path ='C:\\Windows\\System32\\drivers\\etc\\hosts'\n",
        "ip_address = '127.0.0.1'\n",
        "\n",
        "Label(root, text ='Enter Website :' , font ='arial 13 bold').place(x=5 ,y=60)\n",
        "Websites = Text(root,font = 'arial 10',height='2', width = '40', wrap = WORD, padx=5, pady=5)\n",
        "Websites.place(x= 140,y = 60)"
      ],
      "execution_count": 9,
      "outputs": []
    },
    {
      "cell_type": "code",
      "metadata": {
        "id": "kvC3LEPLZVHz"
      },
      "source": [
        "# Define function\n",
        "def Blocker():\n",
        "    website_lists = Websites.get(1.0,END)\n",
        "    Website = list(website_lists.split(\",\"))\n",
        "\n",
        "    with open (host_path , 'r+') as host_file:\n",
        "        file_content = host_file.read()\n",
        "        for website in Website:\n",
        "            if website in file_content:\n",
        "                Label(root, text = 'Already Blocked' , font = 'arial 12 bold').place(x=200,y=200)\n",
        "                pass\n",
        "            else:\n",
        "                host_file.write(ip_address + \" \" + website + '\\n')\n",
        "                Label(root, text = \"Blocked\", font = 'arial 12 bold').place(x=230,y =200)"
      ],
      "execution_count": 10,
      "outputs": []
    },
    {
      "cell_type": "code",
      "metadata": {
        "id": "ZyHRzJi_ZXsk"
      },
      "source": [
        "\n",
        "\n",
        "root.mainloop()"
      ],
      "execution_count": null,
      "outputs": []
    }
  ]
}