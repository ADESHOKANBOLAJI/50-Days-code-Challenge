{
  "nbformat": 4,
  "nbformat_minor": 0,
  "metadata": {
    "colab": {
      "name": "Password Generator.ipynb",
      "provenance": [],
      "authorship_tag": "ABX9TyON1agt1NIt/fotoY8JTImT",
      "include_colab_link": true
    },
    "kernelspec": {
      "name": "python3",
      "display_name": "Python 3"
    },
    "language_info": {
      "name": "python"
    }
  },
  "cells": [
    {
      "cell_type": "markdown",
      "metadata": {
        "id": "view-in-github",
        "colab_type": "text"
      },
      "source": [
        "<a href=\"https://colab.research.google.com/github/ADESHOKANBOLAJI/50-Days-code-Challenge/blob/main/Password_Generator.ipynb\" target=\"_parent\"><img src=\"https://colab.research.google.com/assets/colab-badge.svg\" alt=\"Open In Colab\"/></a>"
      ]
    },
    {
      "cell_type": "code",
      "metadata": {
        "colab": {
          "base_uri": "https://localhost:8080/"
        },
        "id": "q2DK3IxPXFIy",
        "outputId": "4a19d284-9522-4223-99f8-74f8c736f742"
      },
      "source": [
        "!pip install tkinter\n",
        "!pip install pyperclip # Pyperclip is a cross-platform Python module for copy and paste clipboard functions. It works with Python 2 and 3.\n",
        "!pip install random #This module implements pseudo-random number generators for various distributions.\n",
        "!pip install strings"
      ],
      "execution_count": 2,
      "outputs": [
        {
          "output_type": "stream",
          "name": "stdout",
          "text": [
            "\u001b[31mERROR: Could not find a version that satisfies the requirement tkinter (from versions: none)\u001b[0m\n",
            "\u001b[31mERROR: No matching distribution found for tkinter\u001b[0m\n",
            "Collecting pyperclip\n",
            "  Downloading pyperclip-1.8.2.tar.gz (20 kB)\n",
            "Building wheels for collected packages: pyperclip\n",
            "  Building wheel for pyperclip (setup.py) ... \u001b[?25l\u001b[?25hdone\n",
            "  Created wheel for pyperclip: filename=pyperclip-1.8.2-py3-none-any.whl size=11136 sha256=277f52e097cf21e68b9bf4297ff36d4f920b51c3781e2f45a7d76c149e6e5113\n",
            "  Stored in directory: /root/.cache/pip/wheels/9f/18/84/8f69f8b08169c7bae2dde6bd7daf0c19fca8c8e500ee620a28\n",
            "Successfully built pyperclip\n",
            "Installing collected packages: pyperclip\n",
            "Successfully installed pyperclip-1.8.2\n",
            "\u001b[31mERROR: Could not find a version that satisfies the requirement random (from versions: none)\u001b[0m\n",
            "\u001b[31mERROR: No matching distribution found for random\u001b[0m\n",
            "Collecting strings\n",
            "  Downloading strings-0.1.2.tar.gz (2.2 kB)\n",
            "\u001b[33mWARNING: Discarding https://files.pythonhosted.org/packages/bf/25/472d34792ee3816edcab999b5c00ce5e468ebd928ab5eff77f2a6738e37a/strings-0.1.2.tar.gz#sha256=8398e184ccee0900772443179554dfde157b6472a5a18c4dc68fff10de8126e7 (from https://pypi.org/simple/strings/). Command errored out with exit status 1: python setup.py egg_info Check the logs for full command output.\u001b[0m\n",
            "  Downloading strings-0.1.1.tar.gz (2.2 kB)\n",
            "\u001b[33mWARNING: Discarding https://files.pythonhosted.org/packages/9c/c7/032ed62ca1a4b2cb299c9538d3edb4f5e7e3390dbf6b8b287c1d6534fb5c/strings-0.1.1.tar.gz#sha256=bbb79cb4aaee367f1ccd7c942c7b3929e80fe19d48648e654b0217083ae348cc (from https://pypi.org/simple/strings/). Command errored out with exit status 1: python setup.py egg_info Check the logs for full command output.\u001b[0m\n",
            "\u001b[31mERROR: Could not find a version that satisfies the requirement strings (from versions: 0.1.1, 0.1.2)\u001b[0m\n",
            "\u001b[31mERROR: No matching distribution found for strings\u001b[0m\n"
          ]
        }
      ]
    },
    {
      "cell_type": "code",
      "metadata": {
        "id": "7QNQtBdjXV8M"
      },
      "source": [
        "from tkinter import *\n",
        "import random, string\n",
        "import pyperclip"
      ],
      "execution_count": 3,
      "outputs": []
    },
    {
      "cell_type": "code",
      "metadata": {
        "colab": {
          "base_uri": "https://localhost:8080/"
        },
        "id": "dkMRndZKX88I",
        "outputId": "0be0da6f-64ab-4cd0-c7b9-9d8b06921c9e"
      },
      "source": [
        "#after several tk errors this installion fixed it. \n",
        "!apt-get install -y xvfb # Install X Virtual Frame Buffer\n",
        "import os\n",
        "os.system('Xvfb :1 -screen 0 1600x1200x16  &')    # create virtual display with size 1600x1200 and 16 bit color. Color can be changed to 24 or 8\n",
        "os.environ['DISPLAY']=':1.0'    # tell X clients to use our virtual DISPLAY :1.0"
      ],
      "execution_count": 5,
      "outputs": [
        {
          "output_type": "stream",
          "name": "stdout",
          "text": [
            "Reading package lists... Done\n",
            "Building dependency tree       \n",
            "Reading state information... Done\n",
            "The following package was automatically installed and is no longer required:\n",
            "  libnvidia-common-460\n",
            "Use 'apt autoremove' to remove it.\n",
            "The following NEW packages will be installed:\n",
            "  xvfb\n",
            "0 upgraded, 1 newly installed, 0 to remove and 37 not upgraded.\n",
            "Need to get 784 kB of archives.\n",
            "After this operation, 2,270 kB of additional disk space will be used.\n",
            "Get:1 http://archive.ubuntu.com/ubuntu bionic-updates/universe amd64 xvfb amd64 2:1.19.6-1ubuntu4.9 [784 kB]\n",
            "Fetched 784 kB in 1s (724 kB/s)\n",
            "Selecting previously unselected package xvfb.\n",
            "(Reading database ... 155062 files and directories currently installed.)\n",
            "Preparing to unpack .../xvfb_2%3a1.19.6-1ubuntu4.9_amd64.deb ...\n",
            "Unpacking xvfb (2:1.19.6-1ubuntu4.9) ...\n",
            "Setting up xvfb (2:1.19.6-1ubuntu4.9) ...\n",
            "Processing triggers for man-db (2.8.3-2ubuntu0.1) ...\n"
          ]
        }
      ]
    },
    {
      "cell_type": "code",
      "metadata": {
        "colab": {
          "base_uri": "https://localhost:8080/",
          "height": 35
        },
        "id": "qHZo3uzcXhEe",
        "outputId": "0ad96538-f432-4cd4-dee0-14f110461316"
      },
      "source": [
        "root = Tk()\n",
        "root.geometry(\"400x400\")\n",
        "root.resizable(0,0)\n",
        "root.title(\"Dotun Digital - PASSWORD GENERATOR\")"
      ],
      "execution_count": 12,
      "outputs": [
        {
          "output_type": "execute_result",
          "data": {
            "application/vnd.google.colaboratory.intrinsic+json": {
              "type": "string"
            },
            "text/plain": [
              "''"
            ]
          },
          "metadata": {},
          "execution_count": 12
        }
      ]
    },
    {
      "cell_type": "code",
      "metadata": {
        "id": "WAaYA1x6YB5J"
      },
      "source": [
        "Label(root, text = 'PASSWORD GENERATOR' , font ='arial 15 bold').pack()\n",
        "Label(root, text ='Dotun Digital', font ='arial 15 bold').pack(side = BOTTOM)"
      ],
      "execution_count": 13,
      "outputs": []
    },
    {
      "cell_type": "code",
      "metadata": {
        "id": "8yZ0DYZTYPvU"
      },
      "source": [
        "pass_label = Label(root, text = 'PASSWORD LENGTH', font = 'arial 10 bold').pack()\n",
        "pass_len = IntVar()\n",
        "length = Spinbox(root, from_ = 8, to_ = 32 , textvariable = pass_len , width = 15).pack()"
      ],
      "execution_count": 8,
      "outputs": []
    },
    {
      "cell_type": "code",
      "metadata": {
        "id": "ZllEtDrKYUIj"
      },
      "source": [
        "pass_str = StringVar()\n",
        "def Generator():\n",
        "    password = ''\n",
        "\n",
        "    for x in range (0,4):\n",
        "        password = random.choice(string.ascii_uppercase) + random.choice(string.ascii_lowercase) + random.choice(string.digits) + random.choice(string.punctuation)\n",
        "    for y in range(pass_len.get()- 4):\n",
        "        password = password + random.choice(string.ascii_uppercase + string.ascii_lowercase + string.digits + string.punctuation)\n",
        "    pass_str.set(password)"
      ],
      "execution_count": 9,
      "outputs": []
    },
    {
      "cell_type": "code",
      "metadata": {
        "id": "AybS3eA2YYLi"
      },
      "source": [
        "Button(root, text = \"GENERATE PASSWORD\" , command = Generator ).pack(pady= 5)\n",
        "\n",
        "Entry(root , textvariable = pass_str).pack()"
      ],
      "execution_count": 15,
      "outputs": []
    },
    {
      "cell_type": "code",
      "metadata": {
        "id": "Owivep5bYcPq"
      },
      "source": [
        "def Copy_password():\n",
        "    pyperclip.copy(pass_str.get())\n",
        "\n",
        "Button(root, text = 'COPY TO CLIPBOARD', command = Copy_password).pack(pady=5)"
      ],
      "execution_count": 14,
      "outputs": []
    }
  ]
}